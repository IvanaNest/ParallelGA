{
 "cells": [
  {
   "cell_type": "code",
   "execution_count": 158,
   "id": "76240247",
   "metadata": {},
   "outputs": [],
   "source": [
    "import networkx as nx\n",
    "import math\n",
    "import numpy as np\n",
    "from matplotlib import pyplot as plt\n",
    "from tqdm import tqdm\n",
    "import random\n",
    "from copy import deepcopy \n",
    "import time\n",
    "import multiprocessing"
   ]
  },
  {
   "cell_type": "code",
   "execution_count": 159,
   "id": "363518ef",
   "metadata": {},
   "outputs": [
    {
     "name": "stdout",
     "output_type": "stream",
     "text": [
      "ERROR! Session/line number was not unique in database. History logging moved to new session 513\n"
     ]
    }
   ],
   "source": [
    "def euclidean_distance(a_x, a_y, b_x, b_y):\n",
    "    return math.sqrt((a_x - b_x)**2 + (a_y - b_y)**2)\n"
   ]
  },
  {
   "cell_type": "code",
   "execution_count": 160,
   "id": "dc9f222d",
   "metadata": {},
   "outputs": [],
   "source": [
    "def read_graph(file_path):\n",
    "    with open(file_path) as f:\n",
    "        g = nx.Graph()\n",
    "        for line in f:\n",
    "            if not line[0].isdigit():\n",
    "                continue\n",
    "            node, x, y = line.split()\n",
    "            node = int(node) - 1\n",
    "            x = float(x)\n",
    "            y = float(y)\n",
    "            g.add_node(node, x=x, y=y)\n",
    "        \n",
    "        for u in g.nodes:\n",
    "            for v in range(u + 1, len(g.nodes)):\n",
    "                g.add_edge(u, v,\n",
    "                           distance=euclidean_distance(g.nodes[u]['x'],\n",
    "                                                        g.nodes[u]['y'],\n",
    "                                                        g.nodes[v]['x'],\n",
    "                                                        g.nodes[v]['y']))\n",
    "        return g"
   ]
  },
  {
   "cell_type": "code",
   "execution_count": 161,
   "id": "576049d9",
   "metadata": {},
   "outputs": [
    {
     "data": {
      "text/plain": [
       "406"
      ]
     },
     "execution_count": 161,
     "metadata": {},
     "output_type": "execute_result"
    }
   ],
   "source": [
    "g = read_graph(file_path='wi29.tsp')\n",
    "len(g.edges)"
   ]
  },
  {
   "cell_type": "code",
   "execution_count": 162,
   "id": "b6bd4000",
   "metadata": {},
   "outputs": [],
   "source": [
    "class Indivudal:\n",
    "    def __init__(self, g):\n",
    "        num_of_cities = len(g.nodes)\n",
    "        self.code = np.random.permutation(num_of_cities).tolist()\n",
    "        self.fitness = self.calc_fitness(g)\n",
    "        \n",
    "    def __lt__(self, other):\n",
    "         return self.fitness < other.fitness\n",
    "    \n",
    "    def calc_fitness(self, g):\n",
    "        dis = 0\n",
    "        n = len(self.code)\n",
    "        for i in range(n-1):\n",
    "            dis += g[self.code[i]][self.code[i+1]][\"distance\"]\n",
    "    \n",
    "        dis += g[self.code[-1]][self.code[0]][\"distance\"]\n",
    "        \n",
    "        return dis"
   ]
  },
  {
   "cell_type": "code",
   "execution_count": 163,
   "id": "7b7a5c1c",
   "metadata": {},
   "outputs": [
    {
     "data": {
      "text/plain": [
       "118853.19083682958"
      ]
     },
     "execution_count": 163,
     "metadata": {},
     "output_type": "execute_result"
    }
   ],
   "source": [
    "i = Indivudal(g)\n",
    "i.fitness"
   ]
  },
  {
   "cell_type": "code",
   "execution_count": 164,
   "id": "9f6b64bf",
   "metadata": {},
   "outputs": [],
   "source": [
    "def mutation(individual, mutation_prob):\n",
    "    \n",
    "    do = random.random() <= mutation_prob\n",
    "\n",
    "    if do:\n",
    "        n = len(individual.code)\n",
    "        idx1 = random.randrange(n)\n",
    "        #lista bez idx1\n",
    "        allowed = list(set(range(n)).difference({idx1}))\n",
    "        idx2 = random.choice(allowed)\n",
    "        temp = individual.code[idx1]\n",
    "        individual.code[idx1] = individual.code[idx2]\n",
    "        individual.code[idx2] = temp\n",
    "        "
   ]
  },
  {
   "cell_type": "code",
   "execution_count": 165,
   "id": "d71ccefa",
   "metadata": {},
   "outputs": [],
   "source": [
    "def selection(population, tournament_size,other_parent=None):\n",
    "    allowed = list(set(range(len(population))).difference({other_parent}))\n",
    "    chosen = random.sample(allowed, tournament_size)\n",
    "    max_fitness = float('inf')\n",
    "    winner_idx = None\n",
    "    for idx in chosen:\n",
    "        if max_fitness > population[idx].fitness:\n",
    "            winner_idx = idx\n",
    "            max_fitness = population[idx].fitness\n",
    "    return winner_idx"
   ]
  },
  {
   "cell_type": "code",
   "execution_count": 166,
   "id": "ef2841cc",
   "metadata": {},
   "outputs": [],
   "source": [
    "#ne radi\n",
    "def crossover(parent1, parent2,child1,child2):\n",
    "    #ukrstanje prvog reda\n",
    "    size = len(parent1.code)\n",
    "    start, end = sorted(random.sample(range(size), 2))\n",
    "\n",
    "    child1.code = [-1 for _ in range(size)]\n",
    "    child2.code = [-1 for _ in range(size)]\n",
    "\n",
    "    # Kopiraj segment između start i end iz roditelja\n",
    "    child1.code[start:end] = parent1.code[start:end]\n",
    "    child2.code[start:end] = parent2.code[start:end]\n",
    "\n",
    "    # Indeksi za popunjavanje preostalih vrednosti\n",
    "    idx1 = end % size\n",
    "    idx2 = idx1\n",
    "\n",
    "    # Popuni preostale vrednosti u detetu 1 s vrednostima iz drugog roditelja\n",
    "    while idx1 != start:\n",
    "        if parent2.code[idx2] not in child1.code:\n",
    "            child1.code[idx1] = parent2.code[idx2]\n",
    "            idx1 = (idx1 + 1) % size\n",
    "        idx2 = (idx2 + 1) % size\n",
    "\n",
    "    # Indeksi za popunjavanje preostalih vrednosti u detetu 2\n",
    "    idx1 = end % size\n",
    "    idx2 = idx1\n",
    "\n",
    "    # Popuni preostale vrednosti u detetu 2 s vrednostima iz prvog roditelja\n",
    "    while idx1 != start:\n",
    "        if parent1.code[idx2] not in child2.code:\n",
    "            child2.code[idx1] = parent1.code[idx2]\n",
    "            idx1 = (idx1 + 1) % size\n",
    "        idx2 = (idx2 + 1) % size"
   ]
  },
  {
   "cell_type": "code",
   "execution_count": 167,
   "id": "f6eed4a4",
   "metadata": {},
   "outputs": [],
   "source": [
    "p1 = Indivudal(g)\n",
    "p2 = Indivudal(g)\n",
    "c1 = Indivudal(g)\n",
    "c2 = Indivudal(g)"
   ]
  },
  {
   "cell_type": "code",
   "execution_count": 168,
   "id": "beb4b3b0",
   "metadata": {},
   "outputs": [
    {
     "name": "stdout",
     "output_type": "stream",
     "text": [
      "[12, 25, 17, 26, 13, 24, 11, 10, 15, 0, 28, 8, 9, 6, 23, 20, 3, 19, 4, 27, 18, 1, 22, 5, 16, 7, 14, 2, 21]\n",
      "[17, 10, 13, 19, 25, 16, 28, 15, 26, 5, 24, 4, 20, 8, 21, 6, 9, 1, 14, 12, 2, 23, 7, 27, 3, 18, 22, 0, 11]\n",
      "[17, 10, 13, 25, 28, 15, 26, 24, 20, 8, 21, 6, 9, 12, 23, 3, 0, 19, 4, 27, 18, 1, 22, 5, 16, 7, 14, 2, 11]\n",
      "[25, 17, 26, 13, 24, 11, 10, 15, 28, 8, 9, 6, 20, 19, 4, 5, 16, 1, 14, 12, 2, 23, 7, 27, 3, 18, 22, 0, 21]\n"
     ]
    }
   ],
   "source": [
    "print(p1.code)\n",
    "print(p2.code)\n",
    "\n",
    "crossover(p1,p2,c1,c2)\n",
    "print(c1.code)\n",
    "print(c2.code)"
   ]
  },
  {
   "cell_type": "code",
   "execution_count": 169,
   "id": "d78e8f92",
   "metadata": {},
   "outputs": [],
   "source": [
    "def crossover1(parent1, parent2,child1,child2):\n",
    "    \n",
    "    n = len(parent1.code)\n",
    "    child1_list = []\n",
    "    child2_list = []\n",
    "    \n",
    "    breakpoint = random.randrange(n)\n",
    "    \n",
    "    child1_list.extend(parent1.code[:breakpoint])\n",
    "    child2_list.extend(parent2.code[:breakpoint])\n",
    "    \n",
    "    for i in range(breakpoint,n):\n",
    "        if parent2.code[i] not in child1_list:\n",
    "            child1_list.append(parent2.code[i])\n",
    "        if parent1.code[i] not in child2_list:\n",
    "            child2_list.append(parent1.code[i])\n",
    "        \n",
    "    \n",
    "    for node in parent2.code:\n",
    "        if node not in child1_list:\n",
    "            child1_list.append(node)\n",
    "    for node in parent1.code:\n",
    "        if node not in child2_list:\n",
    "            child2_list.append(node)\n",
    "            \n",
    "    child1.code,child2.code = child1_list,child2_list"
   ]
  },
  {
   "cell_type": "code",
   "execution_count": 181,
   "id": "9d3bf2c9",
   "metadata": {},
   "outputs": [],
   "source": [
    "def plot_fitness_iter(best_fitness,xlab,ylab):\n",
    "    plt.plot([i for i in range(len(best_fitnesses))],best_fitnesses)\n",
    "    plt.xlabel(xlab)\n",
    "    plt.ylabel(ylab)\n"
   ]
  },
  {
   "cell_type": "code",
   "execution_count": 182,
   "id": "0ac50752",
   "metadata": {},
   "outputs": [],
   "source": [
    "def simple_ga(g,pop_size, num_iters, tournament_size, mutation_prob, use_elitism, elitism_size,Stop):\n",
    "    if not use_elitism :\n",
    "        elitism_size = 0\n",
    "        if pop_size % 2 == 1:\n",
    "            pop_size += 1\n",
    "    \n",
    "    best_fitnesses = []\n",
    "    if use_elitism and (pop_size - elitism_size) % 2 == 1:\n",
    "        elitism_size += 1\n",
    "    \n",
    "    \n",
    "    population = [Indivudal(g) for _ in range(pop_size)]\n",
    "    best_individual = min(population, key=lambda x: x.fitness)\n",
    "    best_fitnesses.append(best_individual.fitness)\n",
    "    new_population = [Indivudal(g) for _ in range(pop_size)]\n",
    "    \n",
    "    no_difference = 0\n",
    "    for i in range(num_iters):\n",
    "        iter = i\n",
    "        #print(i)\n",
    "        if use_elitism:\n",
    "            population.sort()\n",
    "            \n",
    "            new_population[:elitism_size] = population[:elitism_size]\n",
    "            \n",
    "        for i in range(elitism_size, pop_size, 2):\n",
    "            parent1_idx = selection(population, tournament_size, None)\n",
    "            parent2_idx = selection(population, tournament_size, parent1_idx)\n",
    "            \n",
    "            crossover1(population[parent1_idx],\n",
    "                      population[parent2_idx],\n",
    "                      new_population[i],\n",
    "                      new_population[i+1])\n",
    "            \n",
    "            mutation(new_population[i], mutation_prob)\n",
    "            mutation(new_population[i+1], mutation_prob)\n",
    "            \n",
    "            #print(new_population[i].code)\n",
    "            #print(new_population[i+1].code)\n",
    "            new_population[i].fitness = new_population[i].calc_fitness(g)\n",
    "            new_population[i+1].fitness = new_population[i+1].calc_fitness(g)\n",
    "        \n",
    "        population[:] = new_population[:]\n",
    "        best_individual = min(population, key=lambda x: x.fitness)\n",
    "        best_fitness = best_individual.fitness\n",
    "        best_fitnesses.append(best_fitness)\n",
    "        \n",
    "        if best_fitness == best_fitnesses[iter]:\n",
    "            no_difference += 1\n",
    "        \n",
    "        if no_difference == Stop:\n",
    "            break\n",
    "        #print(best_individual.code)\n",
    "        #print(best_individual.fitness)\n",
    "        #print(1 / best_individual.fitness)\n",
    "        \n",
    "        \n",
    "    \n",
    "    best_individual = min(population, key=lambda x: x.fitness)\n",
    "    print(\"Best individual time:\")\n",
    "    print(best_individual.code)\n",
    "    print(f\"Fitness of best indvidual {best_individual.fitness}\")\n",
    "    print(1 / best_individual.fitness)\n",
    "    \n",
    "    return best_fitnesses, best_individual.fitness"
   ]
  },
  {
   "cell_type": "code",
   "execution_count": 183,
   "id": "104c34cc",
   "metadata": {},
   "outputs": [
    {
     "name": "stdout",
     "output_type": "stream",
     "text": [
      "Best individual time:\n",
      "[12, 8, 6, 10, 9, 7, 2, 3, 4, 1, 0, 5, 11, 13, 15, 23, 24, 26, 19, 25, 27, 20, 28, 22, 21, 14, 18, 17, 16]\n",
      "Fitness of best indvidual 33872.226867424215\n",
      "2.9522712041165663e-05\n",
      "Execution time 2.6577112674713135s\n"
     ]
    }
   ],
   "source": [
    "start = time.time()\n",
    "#best_fitnesses = simple_ga(g,1000,100,5,0.05,True,10,10)\n",
    "best_fitnesses,_ = simple_ga(g,pop_size = 1000, num_iters = 100, tournament_size = 5, mutation_prob = 0.05, use_elitism = True, elitism_size = 10,Stop = 10)\n",
    "end = time.time()\n",
    "print(f\"Execution time {end - start}s\")"
   ]
  },
  {
   "cell_type": "code",
   "execution_count": 186,
   "id": "40016caf",
   "metadata": {},
   "outputs": [
    {
     "data": {
      "text/plain": [
       "Text(0, 0.5, 'Fitness')"
      ]
     },
     "execution_count": 186,
     "metadata": {},
     "output_type": "execute_result"
    },
    {
     "data": {
      "image/png": "[encoded data removed]",
      "text/plain": [
       "<Figure size 432x288 with 1 Axes>"
      ]
     },
     "metadata": {
      "needs_background": "light"
     },
     "output_type": "display_data"
    }
   ],
   "source": [
    "plt.plot([i for i in range(len(best_fitnesses))],best_fitnesses)\n",
    "plt.xlabel(\"Iterations\")\n",
    "plt.ylabel(\"Fitness\")"
   ]
  },
  {
   "cell_type": "code",
   "execution_count": 188,
   "id": "60e55738",
   "metadata": {},
   "outputs": [
    {
     "name": "stdout",
     "output_type": "stream",
     "text": [
      "Best individual time:\n",
      "[19, 8, 6, 9, 10, 5, 0, 1, 4, 17, 16, 18, 14, 11, 7, 3, 2, 12, 13, 15, 23, 26, 24, 20, 22, 21, 28, 27, 25]\n",
      "Fitness of best indvidual 40328.5338907719\n",
      "2.4796339056323173e-05\n",
      "Best individual time:\n",
      "[2, 3, 0, 1, 5, 4, 11, 7, 9, 10, 14, 16, 15, 23, 26, 24, 19, 25, 27, 28, 22, 20, 21, 18, 17, 13, 12, 8, 6]\n",
      "Fitness of best indvidual 32283.99199125512\n",
      "3.09751037068425e-05\n",
      "Best individual time:\n",
      "[9, 10, 5, 1, 0, 4, 3, 2, 6, 8, 12, 13, 24, 26, 23, 15, 16, 21, 22, 20, 28, 27, 25, 19, 17, 18, 14, 11, 7]\n",
      "Fitness of best indvidual 30959.821791943097\n",
      "3.229992752284632e-05\n",
      "Best individual time:\n",
      "[24, 26, 23, 15, 13, 17, 18, 21, 22, 28, 27, 16, 12, 8, 6, 2, 3, 7, 4, 0, 1, 5, 9, 10, 11, 14, 20, 25, 19]\n",
      "Fitness of best indvidual 31741.82204651116\n",
      "3.150417762832594e-05\n",
      "Best individual time:\n",
      "[20, 22, 21, 18, 14, 10, 9, 8, 6, 2, 3, 7, 4, 0, 1, 5, 11, 12, 17, 16, 13, 15, 26, 23, 24, 19, 25, 27, 28]\n",
      "Fitness of best indvidual 32635.22034957304\n",
      "3.064174193673195e-05\n",
      "Best individual time:\n",
      "[25, 27, 28, 22, 21, 20, 19, 26, 23, 24, 15, 13, 12, 8, 6, 3, 2, 4, 5, 0, 1, 10, 9, 7, 11, 14, 18, 17, 16]\n",
      "Fitness of best indvidual 31629.710805988543\n",
      "3.161584391756965e-05\n",
      "Best individual time:\n",
      "[22, 20, 28, 27, 25, 19, 24, 26, 23, 15, 11, 4, 0, 1, 5, 10, 9, 7, 3, 2, 6, 8, 12, 13, 16, 17, 14, 18, 21]\n",
      "Fitness of best indvidual 31196.789402963976\n",
      "3.205458058786623e-05\n",
      "Best individual time:\n",
      "[24, 25, 13, 8, 6, 3, 7, 10, 11, 9, 5, 1, 0, 4, 2, 12, 16, 27, 28, 20, 22, 21, 18, 14, 17, 19, 15, 23, 26]\n",
      "Fitness of best indvidual 36095.97143913095\n",
      "2.770392262987883e-05\n",
      "Best individual time:\n",
      "[23, 15, 19, 27, 20, 17, 16, 12, 13, 11, 10, 9, 5, 0, 1, 4, 6, 8, 2, 3, 7, 14, 18, 21, 22, 28, 25, 24, 26]\n",
      "Fitness of best indvidual 33548.57291483477\n",
      "2.9807527209534815e-05\n",
      "Best individual time:\n",
      "[21, 22, 20, 28, 27, 25, 19, 26, 24, 23, 15, 16, 13, 12, 11, 7, 2, 6, 8, 3, 4, 0, 1, 5, 9, 10, 14, 18, 17]\n",
      "Fitness of best indvidual 29458.39380569767\n",
      "3.394618208296835e-05\n",
      "10\n"
     ]
    },
    {
     "data": {
      "text/plain": [
       "Text(0, 0.5, 'Best fitness')"
      ]
     },
     "execution_count": 188,
     "metadata": {},
     "output_type": "execute_result"
    },
    {
     "data": {
      "image/png": "[encoded data removed]",
      "text/plain": [
       "<Figure size 432x288 with 1 Axes>"
      ]
     },
     "metadata": {
      "needs_background": "light"
     },
     "output_type": "display_data"
    }
   ],
   "source": [
    "best_fitness = []\n",
    "for i in range(10):\n",
    "    _,best = simple_ga(g,pop_size = 1000, num_iters = 100, tournament_size = 5, mutation_prob = 0.05, use_elitism = True, elitism_size = 10,Stop = 10)\n",
    "    best_fitness.append(best)\n",
    "print(len(best_fitness))\n",
    "plt.plot([i for i in range(len(best_fitness))],best_fitness)\n",
    "plt.xlabel(\"Algorithm number\")\n",
    "plt.ylabel(\"Best fitness\")"
   ]
  },
  {
   "cell_type": "code",
   "execution_count": 189,
   "id": "91602442",
   "metadata": {},
   "outputs": [],
   "source": [
    "def local_search(individual,max_iterations=10):\n",
    "    for _ in range(max_iterations):\n",
    "        old_fitness = individual.fitness\n",
    "        i, j = random.sample(range(len(individual.code)), 2)\n",
    "        individual.code[i], individual.code[j] = individual.code[j], individual.code[i]\n",
    "        new_fitness = individual.fitness\n",
    "        if old_fitness < new_fitness:\n",
    "            individual.code[i], individual.code[j] = individual.code[j], individual.code[i]\n",
    "            \n",
    "    return individual, individual.fitness"
   ]
  },
  {
   "cell_type": "code",
   "execution_count": 190,
   "id": "361427f1",
   "metadata": {},
   "outputs": [],
   "source": [
    "i, ifit = local_search(Indivudal(g),10)"
   ]
  },
  {
   "cell_type": "code",
   "execution_count": 191,
   "id": "217a904b",
   "metadata": {},
   "outputs": [
    {
     "name": "stdout",
     "output_type": "stream",
     "text": [
      "[13, 0, 1, 25, 6, 12, 8, 24, 10, 19, 3, 7, 15, 14, 20, 11, 4, 9, 17, 27, 22, 5, 26, 23, 18, 28, 2, 21, 16]\n",
      "106152.83626578328\n"
     ]
    }
   ],
   "source": [
    "print(i.code)\n",
    "print(ifit)"
   ]
  },
  {
   "cell_type": "code",
   "execution_count": 192,
   "id": "f4ac6548",
   "metadata": {},
   "outputs": [],
   "source": [
    "def GA_with_LS(g,pop_size, num_iters, tournament_size, mutation_prob, use_elitism, elitism_size,Stop,local_size):\n",
    "    if not use_elitism :\n",
    "        elitism_size = 0\n",
    "        if pop_size % 2 == 1:\n",
    "            pop_size += 1\n",
    "    \n",
    "    best_fitnesses = []\n",
    "    if use_elitism and (pop_size - elitism_size) % 2 == 1:\n",
    "        elitism_size += 1\n",
    "    \n",
    "    \n",
    "    population = [Indivudal(g) for _ in range(pop_size)]\n",
    "    best_individual = min(population, key=lambda x: x.fitness)\n",
    "    best_fitnesses.append(best_individual.fitness)\n",
    "    new_population = [Indivudal(g) for _ in range(pop_size)]\n",
    "    \n",
    "    no_difference = 0\n",
    "    for i in range(num_iters):\n",
    "        iter = i\n",
    "        #print(i)\n",
    "        if use_elitism:\n",
    "            population.sort()\n",
    "            \n",
    "            new_population[:elitism_size] = population[:elitism_size]\n",
    "        \n",
    "        for i in range(elitism_size, pop_size, 2):\n",
    "            \n",
    "            for j in range(local_size):\n",
    "                ind = random.randrange(len(population))\n",
    "                local_search(population[j])\n",
    "                \n",
    "            parent1_idx = selection(population, tournament_size, None)\n",
    "            parent2_idx = selection(population, tournament_size, parent1_idx)\n",
    "            \n",
    "            crossover1(population[parent1_idx],\n",
    "                      population[parent2_idx],\n",
    "                      new_population[i],\n",
    "                      new_population[i+1])\n",
    "            \n",
    "            mutation(new_population[i], mutation_prob)\n",
    "            mutation(new_population[i+1], mutation_prob)\n",
    "            \n",
    "            #print(new_population[i].code)\n",
    "            #print(new_population[i+1].code)\n",
    "            new_population[i].fitness = new_population[i].calc_fitness(g)\n",
    "            new_population[i+1].fitness = new_population[i+1].calc_fitness(g)\n",
    "        \n",
    "        population[:] = new_population[:]\n",
    "        best_individual = min(population, key=lambda x: x.fitness)\n",
    "        best_fitness = best_individual.fitness\n",
    "        best_fitnesses.append(best_fitness)\n",
    "        \n",
    "        if best_fitness == best_fitnesses[iter]:\n",
    "            no_difference += 1\n",
    "        \n",
    "        if no_difference == Stop:\n",
    "            break\n",
    "        #print(best_individual.code)\n",
    "        #print(best_individual.fitness)\n",
    "        #print(1 / best_individual.fitness)\n",
    "        \n",
    "        \n",
    "    \n",
    "    best_individual = min(population, key=lambda x: x.fitness)\n",
    "    print(\"Best individual time:\")\n",
    "    print(best_individual.code)\n",
    "    print(f\"Fitness of best indvidual {best_individual.fitness}\")\n",
    "    print(1 / best_individual.fitness)\n",
    "    \n",
    "    return best_fitnesses, best_individual.fitness"
   ]
  },
  {
   "cell_type": "code",
   "execution_count": 193,
   "id": "487efebf",
   "metadata": {},
   "outputs": [
    {
     "name": "stdout",
     "output_type": "stream",
     "text": [
      "Best individual time:\n",
      "[27, 13, 19, 22, 18, 16, 3, 1, 0, 21, 23, 20, 15, 2, 5, 10, 6, 25, 26, 8, 17, 12, 11, 14, 9, 4, 28, 24, 7]\n",
      "Fitness of best indvidual 32467.805166959457\n",
      "3.079974130858837e-05\n",
      "Execution time 9.493046283721924s\n"
     ]
    }
   ],
   "source": [
    "start = time.time()\n",
    "best_fitnesses,_ = GA_with_LS(g,pop_size=1000,number_iters = 80,tournament_size=5,mutation_prob =0.05,use_elitsm=True,elitism_size = 10,stop = 10,local_size = 10)\n",
    "end = time.time()\n",
    "print(f\"Execution time {end - start}s\")"
   ]
  },
  {
   "cell_type": "code",
   "execution_count": 194,
   "id": "a5bf37ac",
   "metadata": {},
   "outputs": [
    {
     "data": {
      "text/plain": [
       "[<matplotlib.lines.Line2D at 0x7f4dab504c70>]"
      ]
     },
     "execution_count": 194,
     "metadata": {},
     "output_type": "execute_result"
    },
    {
     "data": {
      "image/png": "[encoded data removed]",
      "text/plain": [
       "<Figure size 432x288 with 1 Axes>"
      ]
     },
     "metadata": {
      "needs_background": "light"
     },
     "output_type": "display_data"
    }
   ],
   "source": [
    "plt.plot([i for i in range(len(best_fitnesses))],best_fitnesses)"
   ]
  },
  {
   "cell_type": "code",
   "execution_count": 196,
   "id": "f26c8d0f",
   "metadata": {},
   "outputs": [
    {
     "name": "stdout",
     "output_type": "stream",
     "text": [
      "Best individual time:\n",
      "[20, 19, 24, 26, 23, 15, 13, 12, 7, 3, 4, 0, 1, 5, 10, 9, 2, 6, 8, 11, 14, 18, 21, 22, 17, 16, 25, 27, 28]\n",
      "Fitness of best indvidual 33058.51868780811\n",
      "3.024938925556871e-05\n",
      "Best individual time:\n",
      "[23, 15, 13, 12, 20, 28, 22, 21, 14, 7, 8, 6, 2, 3, 4, 5, 0, 1, 10, 9, 11, 18, 17, 16, 25, 27, 19, 26, 24]\n",
      "Fitness of best indvidual 34717.71388485439\n",
      "2.8803739880932947e-05\n",
      "Best individual time:\n",
      "[1, 0, 6, 8, 15, 23, 26, 24, 25, 19, 16, 27, 28, 22, 21, 20, 18, 14, 17, 13, 12, 11, 10, 9, 7, 2, 3, 4, 5]\n",
      "Fitness of best indvidual 33410.77564815595\n",
      "2.993046346875797e-05\n",
      "Best individual time:\n",
      "[16, 17, 18, 14, 11, 12, 8, 6, 2, 3, 0, 1, 5, 10, 9, 4, 7, 13, 19, 15, 23, 26, 24, 25, 27, 28, 22, 21, 20]\n",
      "Fitness of best indvidual 31869.758011068236\n",
      "3.137770922680694e-05\n",
      "Best individual time:\n",
      "[28, 22, 17, 18, 21, 20, 14, 12, 16, 13, 24, 26, 23, 15, 8, 2, 3, 7, 11, 9, 10, 1, 0, 5, 4, 6, 19, 25, 27]\n",
      "Fitness of best indvidual 39255.45367192835\n",
      "2.5474167445811533e-05\n",
      "Best individual time:\n",
      "[8, 2, 6, 11, 14, 18, 21, 22, 17, 16, 13, 7, 3, 4, 1, 0, 5, 9, 10, 25, 27, 28, 20, 24, 26, 23, 15, 19, 12]\n",
      "Fitness of best indvidual 39075.65187177519\n",
      "2.5591383690320773e-05\n",
      "Best individual time:\n",
      "[28, 27, 18, 14, 6, 8, 2, 3, 9, 10, 7, 4, 0, 1, 5, 11, 12, 13, 17, 16, 19, 15, 23, 26, 24, 25, 20, 21, 22]\n",
      "Fitness of best indvidual 35556.636493714934\n",
      "2.8124144987019854e-05\n",
      "Best individual time:\n",
      "[22, 20, 24, 23, 26, 25, 27, 28, 17, 9, 10, 4, 3, 7, 12, 13, 15, 19, 16, 8, 6, 2, 1, 0, 5, 11, 14, 18, 21]\n",
      "Fitness of best indvidual 40657.19960045047\n",
      "2.4595889776651522e-05\n",
      "Best individual time:\n",
      "[4, 1, 0, 5, 10, 14, 18, 17, 21, 22, 27, 15, 23, 26, 24, 19, 25, 28, 20, 16, 13, 12, 11, 9, 8, 6, 2, 3, 7]\n",
      "Fitness of best indvidual 33016.671963529014\n",
      "3.0287728608886545e-05\n",
      "Best individual time:\n",
      "[2, 3, 4, 0, 1, 5, 7, 12, 25, 19, 15, 23, 26, 24, 27, 22, 28, 17, 11, 9, 10, 14, 18, 21, 20, 16, 13, 8, 6]\n",
      "Fitness of best indvidual 35845.88107840334\n",
      "2.7897207989190324e-05\n",
      "10\n"
     ]
    },
    {
     "data": {
      "text/plain": [
       "Text(0, 0.5, 'Best fitness')"
      ]
     },
     "execution_count": 196,
     "metadata": {},
     "output_type": "execute_result"
    },
    {
     "data": {
      "image/png": "[encoded data removed]",
      "text/plain": [
       "<Figure size 432x288 with 1 Axes>"
      ]
     },
     "metadata": {
      "needs_background": "light"
     },
     "output_type": "display_data"
    }
   ],
   "source": [
    "#g,pop_size, num_iters, tournament_size, mutation_prob, use_elitism, elitism_size,Stop,local_size\n",
    "best_fitness = []\n",
    "for i in range(10):\n",
    "    _,best = simple_ga(g,pop_size = 1000, num_iters = 100, tournament_size = 5, mutation_prob = 0.05, use_elitism = True, elitism_size = 10,Stop = 10)\n",
    "    best_fitness.append(best)\n",
    "print(len(best_fitness))\n",
    "plt.plot([i for i in range(len(best_fitness))],best_fitness)\n",
    "plt.xlabel(\"Algorithm number\")\n",
    "plt.ylabel(\"Best fitness\")"
   ]
  },
  {
   "cell_type": "code",
   "execution_count": 48,
   "id": "b79ebdf6",
   "metadata": {},
   "outputs": [],
   "source": [
    "def GA_with_LS_single(g,pop_size, num_iters, tournament_size, mutation_prob, use_elitism, elitism_size,Stop,local_size,result_queue):\n",
    "    if not use_elitism :\n",
    "        elitism_size = 0\n",
    "        if pop_size % 2 == 1:\n",
    "            pop_size += 1\n",
    "    \n",
    "    best_fitnesses = []\n",
    "    if use_elitism and (pop_size - elitism_size) % 2 == 1:\n",
    "        elitism_size += 1\n",
    "    \n",
    "    \n",
    "    population = [Indivudal(g) for _ in range(pop_size)]\n",
    "    best_individual = min(population, key=lambda x: x.fitness)\n",
    "    best_fitnesses.append(best_individual.fitness)\n",
    "    new_population = [Indivudal(g) for _ in range(pop_size)]\n",
    "    \n",
    "    no_difference = 0\n",
    "    for i in range(num_iters):\n",
    "        iter = i\n",
    "        #print(i)\n",
    "        if use_elitism:\n",
    "            population.sort()\n",
    "            \n",
    "            new_population[:elitism_size] = population[:elitism_size]\n",
    "        \n",
    "        for i in range(elitism_size, pop_size, 2):\n",
    "            \n",
    "            for j in range(local_size):\n",
    "                ind = random.randrange(len(population))\n",
    "                local_search(population[j])\n",
    "                \n",
    "            parent1_idx = selection(population, tournament_size, None)\n",
    "            parent2_idx = selection(population, tournament_size, parent1_idx)\n",
    "            \n",
    "            crossover1(population[parent1_idx],\n",
    "                      population[parent2_idx],\n",
    "                      new_population[i],\n",
    "                      new_population[i+1])\n",
    "            \n",
    "            mutation(new_population[i], mutation_prob)\n",
    "            mutation(new_population[i+1], mutation_prob)\n",
    "            \n",
    "            #print(new_population[i].code)\n",
    "            #print(new_population[i+1].code)\n",
    "            new_population[i].fitness = new_population[i].calc_fitness(g)\n",
    "            new_population[i+1].fitness = new_population[i+1].calc_fitness(g)\n",
    "        \n",
    "        population[:] = new_population[:]\n",
    "        best_individual = min(population, key=lambda x: x.fitness)\n",
    "        best_fitness = best_individual.fitness\n",
    "        best_fitnesses.append(best_fitness)\n",
    "        \n",
    "        if best_fitness == best_fitnesses[iter]:\n",
    "            no_difference += 1\n",
    "        \n",
    "        if no_difference == Stop:\n",
    "            break\n",
    "        #print(best_individual.code)\n",
    "        #print(best_individual.fitness)\n",
    "        #print(1 / best_individual.fitness)\n",
    "        \n",
    "        \n",
    "    \n",
    "    result = best_individual.fitness, best_individual.code\n",
    "    result_queue.put(result)\n"
   ]
  },
  {
   "cell_type": "code",
   "execution_count": 199,
   "id": "5be6bc2c",
   "metadata": {},
   "outputs": [],
   "source": [
    "def parallel_ga_ls(g,pop_size, num_iters, tournament_size, mutation_prob, use_elitism, elitism_size,Stop,local_size,num_processes):\n",
    "    # Create a list of arguments for each process\n",
    "    processes = []\n",
    "    result_queue = multiprocessing.Queue()\n",
    "    for i in range(num_processes):\n",
    "        args = (g,pop_size, num_iters, tournament_size, mutation_prob, use_elitism, elitism_size,Stop,local_size,result_queue)\n",
    "        process = multiprocessing.Process(target=GA_with_LS_single, args=args)\n",
    "        process.start()\n",
    "   \n",
    "        processes.append(process)\n",
    "\n",
    "    # Start and join all processes\n",
    "    #for process in processes:\n",
    "    #    process.start()\n",
    "\n",
    "\n",
    "    for process in processes:\n",
    "        process.join()\n",
    "    results = []\n",
    "    while not result_queue.empty():\n",
    "        result = result_queue.get()\n",
    "        results.append(result)\n",
    "    print(\"\\\\\\\\\")\n",
    "    results.sort()\n",
    "    print(f\"fitnes najbolje {results[0][0]}\")\n",
    "    print(f\"Kod najbolje jedinke {results[0][1]}\")\n",
    "    \n",
    "    return results[0][0]\n",
    "     \n",
    "  \n",
    "    "
   ]
  },
  {
   "cell_type": "code",
   "execution_count": 200,
   "id": "b53ca543",
   "metadata": {},
   "outputs": [
    {
     "name": "stdout",
     "output_type": "stream",
     "text": [
      "\\\\\n",
      "fitnes najbolje 31774.41172970259\n",
      "Kod najbolje jedinke [23, 15, 25, 27, 28, 21, 17, 22, 20, 13, 8, 6, 2, 3, 4, 0, 1, 5, 9, 10, 11, 7, 12, 14, 18, 16, 19, 24, 26]\n"
     ]
    },
    {
     "data": {
      "text/plain": [
       "31774.41172970259"
      ]
     },
     "execution_count": 200,
     "metadata": {},
     "output_type": "execute_result"
    }
   ],
   "source": [
    "parallel_ga_ls( g,\n",
    "        num_iters = 20,\n",
    "        use_elitism = True,\n",
    "        pop_size = 1000,\n",
    "        elitism_size = 10,\n",
    "        mutation_prob = 0.15,\n",
    "        tournament_size = 10,\n",
    "        Stop = 10,\n",
    "        local_size = 10,\n",
    "        num_processes = 4\n",
    "    )"
   ]
  },
  {
   "cell_type": "code",
   "execution_count": 202,
   "id": "35fde793",
   "metadata": {},
   "outputs": [
    {
     "name": "stdout",
     "output_type": "stream",
     "text": [
      "\\\\\n",
      "fitnes najbolje 30664.540754919\n",
      "Kod najbolje jedinke [3, 26, 13, 28, 23, 27, 8, 19, 6, 17, 4, 24, 9, 15, 22, 14, 20, 12, 10, 2, 5, 1, 16, 7, 25, 21, 18, 0, 11]\n",
      "\\\\\n",
      "fitnes najbolje 30497.053444146477\n",
      "Kod najbolje jedinke [28, 20, 2, 12, 3, 17, 16, 0, 10, 18, 7, 4, 9, 14, 5, 25, 27, 6, 15, 1, 11, 21, 26, 13, 23, 24, 8, 19, 22]\n",
      "\\\\\n",
      "fitnes najbolje 30444.528374831854\n",
      "Kod najbolje jedinke [24, 0, 5, 28, 8, 17, 22, 23, 15, 26, 27, 9, 10, 14, 1, 11, 18, 12, 7, 6, 19, 4, 16, 21, 2, 3, 20, 25, 13]\n",
      "\\\\\n",
      "fitnes najbolje 31841.662869459407\n",
      "Kod najbolje jedinke [24, 18, 0, 17, 1, 8, 19, 15, 12, 14, 6, 23, 27, 2, 4, 10, 22, 20, 28, 9, 26, 13, 21, 16, 11, 3, 5, 7, 25]\n",
      "\\\\\n",
      "fitnes najbolje 31578.589764091397\n",
      "Kod najbolje jedinke [27, 25, 19, 26, 24, 23, 15, 8, 6, 2, 3, 1, 0, 5, 10, 9, 4, 7, 11, 12, 13, 14, 18, 17, 16, 20, 21, 22, 28]\n",
      "\\\\\n",
      "fitnes najbolje 31037.260856686902\n",
      "Kod najbolje jedinke [22, 18, 16, 7, 25, 1, 8, 23, 9, 11, 15, 12, 27, 14, 4, 26, 0, 24, 17, 19, 13, 10, 28, 6, 3, 5, 20, 21, 2]\n",
      "\\\\\n",
      "fitnes najbolje 32249.601254918554\n",
      "Kod najbolje jedinke [2, 5, 15, 25, 19, 20, 28, 18, 17, 11, 26, 14, 4, 16, 24, 1, 27, 22, 21, 6, 8, 9, 3, 7, 10, 0, 12, 23, 13]\n",
      "\\\\\n",
      "fitnes najbolje 32799.36784356903\n",
      "Kod najbolje jedinke [8, 0, 20, 14, 15, 11, 5, 3, 2, 1, 25, 27, 21, 18, 4, 28, 26, 24, 17, 7, 13, 10, 6, 9, 16, 23, 19, 12, 22]\n",
      "\\\\\n",
      "fitnes najbolje 31673.173964783422\n",
      "Kod najbolje jedinke [0, 11, 24, 6, 18, 2, 1, 13, 19, 5, 9, 16, 15, 26, 28, 7, 4, 27, 23, 10, 14, 25, 12, 8, 21, 20, 17, 22, 3]\n",
      "\\\\\n",
      "fitnes najbolje 29056.83889454636\n",
      "Kod najbolje jedinke [6, 3, 0, 13, 10, 17, 18, 8, 19, 21, 27, 20, 15, 22, 2, 5, 1, 28, 26, 14, 12, 7, 11, 24, 25, 4, 16, 23, 9]\n",
      "10\n"
     ]
    },
    {
     "data": {
      "text/plain": [
       "Text(0, 0.5, 'Best fitness')"
      ]
     },
     "execution_count": 202,
     "metadata": {},
     "output_type": "execute_result"
    },
    {
     "data": {
      "image/png": "[encoded data removed]",
      "text/plain": [
       "<Figure size 432x288 with 1 Axes>"
      ]
     },
     "metadata": {
      "needs_background": "light"
     },
     "output_type": "display_data"
    }
   ],
   "source": [
    "best_fitness = []\n",
    "for i in range(10):\n",
    "    best = parallel_ga_ls(g,pop_size = 1000, num_iters = 100, tournament_size = 5, mutation_prob = 0.05, use_elitism = True, elitism_size = 10,Stop = 10,local_size = 10,\n",
    "        num_processes = 4)\n",
    "    best_fitness.append(best)\n",
    "print(len(best_fitness))\n",
    "plt.plot([i for i in range(len(best_fitness))],best_fitness)\n",
    "plt.xlabel(\"Algorithm number\")\n",
    "plt.ylabel(\"Best fitness\")"
   ]
  },
  {
   "cell_type": "markdown",
   "id": "23fe5c75",
   "metadata": {},
   "source": [
    "#Initicialization with parralel best"
   ]
  },
  {
   "cell_type": "code",
   "execution_count": 203,
   "id": "51cb6d75",
   "metadata": {},
   "outputs": [],
   "source": [
    "def GA_with_LS_multiple(g,num_best,pop_size, num_iters, tournament_size, mutation_prob, use_elitism, elitism_size,Stop,local_size,result_queue):\n",
    "    if not use_elitism :\n",
    "        elitism_size = 0\n",
    "        if pop_size % 2 == 1:\n",
    "            pop_size += 1\n",
    "    \n",
    "    best_fitnesses = []\n",
    "    if use_elitism and (pop_size - elitism_size) % 2 == 1:\n",
    "        elitism_size += 1\n",
    "    \n",
    "    population = [Indivudal(g) for _ in range(pop_size)]\n",
    "    best_individual = min(population, key=lambda x: x.fitness)\n",
    "    best_fitnesses.append(best_individual.fitness)\n",
    "    new_population = [Indivudal(g) for _ in range(pop_size)]\n",
    "    \n",
    "    no_difference = 0\n",
    "    for i in range(num_iters):\n",
    "        iter = i\n",
    "        #print(i)\n",
    "        if use_elitism:\n",
    "            population.sort()\n",
    "            \n",
    "            new_population[:elitism_size] = population[:elitism_size]\n",
    "        \n",
    "        for i in range(elitism_size, pop_size, 2):\n",
    "            \n",
    "            for j in range(local_size):\n",
    "                ind = random.randrange(len(population))\n",
    "                local_search(population[j])\n",
    "                \n",
    "            parent1_idx = selection(population, tournament_size, None)\n",
    "            parent2_idx = selection(population, tournament_size, parent1_idx)\n",
    "            \n",
    "            crossover1(population[parent1_idx],\n",
    "                      population[parent2_idx],\n",
    "                      new_population[i],\n",
    "                      new_population[i+1])\n",
    "            \n",
    "            mutation(new_population[i], mutation_prob)\n",
    "            mutation(new_population[i+1], mutation_prob)\n",
    "            \n",
    "            #print(new_population[i].code)\n",
    "            #print(new_population[i+1].code)\n",
    "            new_population[i].fitness = new_population[i].calc_fitness(g)\n",
    "            new_population[i+1].fitness = new_population[i+1].calc_fitness(g)\n",
    "        \n",
    "        population[:] = new_population[:]\n",
    "        best_individual = min(population, key=lambda x: x.fitness)\n",
    "        best_fitness = best_individual.fitness\n",
    "        best_fitnesses.append(best_fitness)\n",
    "        \n",
    "        if best_fitness == best_fitnesses[iter]:\n",
    "            no_difference += 1\n",
    "        \n",
    "        if no_difference == Stop:\n",
    "            break\n",
    "        #print(best_individual.code)\n",
    "        #print(best_individual.fitness)\n",
    "        #print(1 / best_individual.fitness)\n",
    "        \n",
    "    s = sorted(population,key=lambda x: x.fitness)\n",
    "    best = [s[i] for i in range(num_best)]\n",
    "    result = best\n",
    "    result_queue.put(result)"
   ]
  },
  {
   "cell_type": "code",
   "execution_count": 208,
   "id": "9fcfeb1a",
   "metadata": {},
   "outputs": [],
   "source": [
    "def GA_with_LS_old_pop(old_pop,g,pop_size, num_iters, tournament_size, mutation_prob, use_elitism, elitism_size,Stop,local_size):\n",
    "    if not use_elitism :\n",
    "        elitism_size = 0\n",
    "        if pop_size % 2 == 1:\n",
    "            pop_size += 1\n",
    "    \n",
    "    best_fitnesses = []\n",
    "    if use_elitism and (pop_size - elitism_size) % 2 == 1:\n",
    "        elitism_size += 1\n",
    "    \n",
    "    old_pop_size = len(old_pop)\n",
    "    population = [Indivudal(g) for _ in range(pop_size)]\n",
    "    population[:old_pop_size] = old_pop[:] \n",
    "    best_individual = min(population, key=lambda x: x.fitness)\n",
    "    best_fitnesses.append(best_individual.fitness)\n",
    "    new_population = [Indivudal(g) for _ in range(pop_size)]\n",
    "    \n",
    "    no_difference = 0\n",
    "    for i in range(num_iters):\n",
    "        iter = i\n",
    "        #print(i)\n",
    "        if use_elitism:\n",
    "            population.sort()\n",
    "            \n",
    "            new_population[:elitism_size] = population[:elitism_size]\n",
    "        \n",
    "        for i in range(elitism_size, pop_size, 2):\n",
    "            \n",
    "            for j in range(local_size):\n",
    "                ind = random.randrange(len(population))\n",
    "                local_search(population[j])\n",
    "                \n",
    "            parent1_idx = selection(population, tournament_size, None)\n",
    "            parent2_idx = selection(population, tournament_size, parent1_idx)\n",
    "            \n",
    "            crossover1(population[parent1_idx],\n",
    "                      population[parent2_idx],\n",
    "                      new_population[i],\n",
    "                      new_population[i+1])\n",
    "            \n",
    "            mutation(new_population[i], mutation_prob)\n",
    "            mutation(new_population[i+1], mutation_prob)\n",
    "            \n",
    "            #print(new_population[i].code)\n",
    "            #print(new_population[i+1].code)\n",
    "            new_population[i].fitness = new_population[i].calc_fitness(g)\n",
    "            new_population[i+1].fitness = new_population[i+1].calc_fitness(g)\n",
    "        \n",
    "        population[:] = new_population[:]\n",
    "        best_individual = min(population, key=lambda x: x.fitness)\n",
    "        best_fitness = best_individual.fitness\n",
    "        best_fitnesses.append(best_fitness)\n",
    "        \n",
    "        if best_fitness == best_fitnesses[iter]:\n",
    "            no_difference += 1\n",
    "        \n",
    "        if no_difference == Stop:\n",
    "            break\n",
    "        #print(best_individual.code)\n",
    "        #print(best_individual.fitness)\n",
    "        #print(1 / best_individual.fitness)\n",
    "        \n",
    "        \n",
    "    \n",
    "    best_individual = min(population, key=lambda x: x.fitness)\n",
    "    print(\"Best individual time:\")\n",
    "    print(best_individual.code)\n",
    "    print(f\"Fitness of best indvidual {best_individual.fitness}\")\n",
    "    print(1 / best_individual.fitness)\n",
    "    \n",
    "    return best_fitnesses, best_individual.fitness"
   ]
  },
  {
   "cell_type": "code",
   "execution_count": 209,
   "id": "91111d75",
   "metadata": {},
   "outputs": [],
   "source": [
    "def parallel_ga_ls_2(g,pop_size, num_iters, tournament_size, mutation_prob, use_elitism, elitism_size,Stop,local_size,num_processes):\n",
    "    # Create a list of arguments for each process\n",
    "    processes = []\n",
    "    result_queue = multiprocessing.Queue()\n",
    "    num_best = 5\n",
    "    for i in range(num_processes):\n",
    "        args = (g,num_best,pop_size, num_iters, tournament_size, mutation_prob, use_elitism, elitism_size,Stop,local_size,result_queue)\n",
    "        process = multiprocessing.Process(target=GA_with_LS_multiple, args=args)\n",
    "        process.start()\n",
    "   \n",
    "        processes.append(process)\n",
    "\n",
    "    # Start and join all processes\n",
    "    #for process in processes:\n",
    "    #    process.start()\n",
    "\n",
    "\n",
    "    for process in processes:\n",
    "        process.join()\n",
    "    results = []\n",
    "    while not result_queue.empty():\n",
    "        result = result_queue.get()\n",
    "        results.append(result)\n",
    "    print(\"\\\\\\\\\")\n",
    "    #print(results)\n",
    "    old_pop = [item for sublist in results for item in sublist]\n",
    "    #print(old_pop)\n",
    "    \n",
    "    _,best_fitness = GA_with_LS_old_pop(old_pop,g,pop_size, num_iters, tournament_size, mutation_prob, use_elitism, elitism_size,Stop,local_size)\n",
    "    \n",
    "    return best_fitness\n",
    "    #new population of best individuals \n",
    "    "
   ]
  },
  {
   "cell_type": "code",
   "execution_count": 211,
   "id": "8440835b",
   "metadata": {},
   "outputs": [
    {
     "name": "stdout",
     "output_type": "stream",
     "text": [
      "\\\\\n",
      "Best individual time:\n",
      "[22, 9, 19, 12, 3, 25, 20, 24, 26, 28, 15, 1, 18, 2, 11, 16, 23, 27, 7, 10, 8, 4, 0, 17, 21, 14, 6, 5, 13]\n",
      "Fitness of best indvidual 32539.932129440236\n",
      "3.073147159687092e-05\n",
      "Vreme 15.234431743621826s\n",
      "\\\\\n",
      "Best individual time:\n",
      "[4, 12, 17, 14, 10, 23, 15, 0, 9, 24, 19, 26, 16, 20, 13, 2, 1, 28, 11, 5, 6, 8, 21, 27, 22, 7, 25, 3, 18]\n",
      "Fitness of best indvidual 33928.22973849173\n",
      "2.947398103902531e-05\n",
      "\\\\\n",
      "Best individual time:\n",
      "[18, 17, 13, 0, 11, 1, 24, 3, 6, 7, 27, 10, 21, 14, 5, 22, 20, 8, 23, 26, 16, 4, 15, 12, 19, 28, 25, 9, 2]\n",
      "Fitness of best indvidual 31372.06678700017\n",
      "3.187548996339559e-05\n",
      "\\\\\n",
      "Best individual time:\n",
      "[1, 22, 19, 18, 4, 3, 17, 21, 15, 8, 20, 11, 23, 5, 12, 2, 9, 24, 13, 14, 26, 28, 27, 0, 10, 25, 7, 6, 16]\n",
      "Fitness of best indvidual 31426.666729957957\n",
      "3.182011024563208e-05\n",
      "\\\\\n",
      "Best individual time:\n",
      "[6, 14, 12, 1, 3, 0, 20, 26, 23, 28, 19, 7, 11, 27, 18, 17, 10, 15, 8, 2, 25, 21, 16, 24, 5, 22, 9, 4, 13]\n",
      "Fitness of best indvidual 32045.531652162223\n",
      "3.120559867299086e-05\n",
      "\\\\\n",
      "Best individual time:\n",
      "[2, 22, 25, 21, 7, 4, 8, 6, 18, 3, 24, 1, 14, 27, 0, 17, 23, 16, 5, 26, 11, 9, 13, 28, 20, 19, 12, 10, 15]\n",
      "Fitness of best indvidual 32754.394999786946\n",
      "3.053025403175679e-05\n",
      "\\\\\n",
      "Best individual time:\n",
      "[9, 25, 16, 6, 22, 19, 2, 4, 12, 14, 7, 11, 13, 18, 27, 3, 0, 17, 20, 26, 21, 8, 23, 24, 28, 15, 5, 1, 10]\n",
      "Fitness of best indvidual 30244.42592690308\n",
      "3.306394382941414e-05\n",
      "\\\\\n",
      "Best individual time:\n",
      "[0, 2, 20, 22, 17, 14, 10, 23, 12, 28, 8, 9, 25, 19, 24, 5, 13, 27, 26, 6, 4, 15, 1, 18, 21, 16, 11, 3, 7]\n",
      "Fitness of best indvidual 31318.647581168043\n",
      "3.192985895729743e-05\n",
      "\\\\\n",
      "Best individual time:\n",
      "[6, 9, 7, 3, 14, 12, 19, 25, 15, 26, 1, 18, 23, 20, 16, 28, 21, 2, 27, 8, 4, 10, 5, 22, 13, 24, 17, 11, 0]\n",
      "Fitness of best indvidual 30907.26703887353\n",
      "3.2354850357433823e-05\n",
      "\\\\\n",
      "Best individual time:\n",
      "[0, 25, 10, 14, 23, 13, 12, 22, 28, 21, 2, 11, 17, 9, 7, 26, 4, 5, 15, 24, 3, 18, 6, 8, 16, 20, 19, 1, 27]\n",
      "Fitness of best indvidual 32376.150506732614\n",
      "3.0886933262558503e-05\n",
      "\\\\\n",
      "Best individual time:\n",
      "[7, 3, 4, 14, 24, 8, 11, 0, 16, 17, 19, 13, 1, 10, 28, 12, 23, 9, 25, 2, 27, 5, 15, 26, 18, 21, 20, 22, 6]\n",
      "Fitness of best indvidual 32490.55503830329\n",
      "3.0778175344222177e-05\n"
     ]
    },
    {
     "data": {
      "image/png": "[encoded data removed]",
      "text/plain": [
       "<Figure size 432x288 with 1 Axes>"
      ]
     },
     "metadata": {
      "needs_background": "light"
     },
     "output_type": "display_data"
    }
   ],
   "source": [
    "if __name__ == \"__main__\":\n",
    "\n",
    "    # ga_ls( graph,\n",
    "    #     num_iters = 20,\n",
    "    #     use_elitism = True,\n",
    "    #     population_size = 1000,\n",
    "    #     elitism_size = 10,\n",
    "    #     mutation_prob = 0.15,\n",
    "    #     tournament_size = 10,\n",
    "    # )\n",
    "    \n",
    "    multiprocessing.freeze_support()  \n",
    "    \n",
    "    start = time.time()\n",
    "\n",
    "    parallel_ga_ls_2( g,\n",
    "        num_iters = 20,\n",
    "        use_elitism = True,\n",
    "        pop_size = 1000,\n",
    "        elitism_size = 10,\n",
    "        mutation_prob = 0.15,\n",
    "        tournament_size = 10,\n",
    "        Stop = 10,\n",
    "        local_size = 10,\n",
    "        num_processes = 4\n",
    "    )\n",
    "    \n",
    "    end = time.time()\n",
    "\n",
    "    \n",
    "    print(f\"Vreme {end-start}s\")\n",
    "    \n",
    "    best_fitness = []\n",
    "    for i in range(10):\n",
    "        best = parallel_ga_ls_2(g,pop_size = 1000, num_iters = 100, tournament_size = 5, mutation_prob = 0.05, use_elitism = True, elitism_size = 10,Stop = 10,local_size = 10,\n",
    "        num_processes = 4)\n",
    "        best_fitness.append(best)\n",
    "\n",
    "    plt.plot([i for i in range(len(best_fitness))],best_fitness)\n",
    "    plt.xlabel(\"Algorithm number\")\n",
    "    plt.ylabel(\"Best fitness\")\n",
    "    \n",
    "    "
   ]
  },
  {
   "cell_type": "code",
   "execution_count": null,
   "id": "f5dc6584",
   "metadata": {},
   "outputs": [],
   "source": []
  },
  {
   "cell_type": "code",
   "execution_count": null,
   "id": "ee70e423",
   "metadata": {},
   "outputs": [],
   "source": []
  },
  {
   "cell_type": "code",
   "execution_count": null,
   "id": "ee8abeb3",
   "metadata": {},
   "outputs": [],
   "source": []
  }
 ],
 "metadata": {
  "kernelspec": {
   "display_name": "Python 3 (ipykernel)",
   "language": "python",
   "name": "python3"
  },
  "language_info": {
   "codemirror_mode": {
    "name": "ipython",
    "version": 3
   },
   "file_extension": ".py",
   "mimetype": "text/x-python",
   "name": "python",
   "nbconvert_exporter": "python",
   "pygments_lexer": "ipython3",
   "version": "3.8.10"
  }
 },
 "nbformat": 4,
 "nbformat_minor": 5
}
