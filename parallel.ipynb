{
 "cells": [
  {
   "cell_type": "code",
   "execution_count": 1,
   "id": "76240247",
   "metadata": {},
   "outputs": [],
   "source": [
    "import networkx as nx\n",
    "import math\n",
    "import numpy as np\n",
    "from matplotlib import pyplot as plt\n",
    "from tqdm import tqdm\n",
    "import random\n",
    "from copy import deepcopy \n",
    "import time\n",
    "import multiprocessing"
   ]
  },
  {
   "cell_type": "code",
   "execution_count": 2,
   "id": "363518ef",
   "metadata": {},
   "outputs": [],
   "source": [
    "def euclidean_distance(a_x, a_y, b_x, b_y):\n",
    "    return math.sqrt((a_x - b_x)**2 + (a_y - b_y)**2)\n"
   ]
  },
  {
   "cell_type": "code",
   "execution_count": 3,
   "id": "dc9f222d",
   "metadata": {},
   "outputs": [],
   "source": [
    "def read_graph(file_path):\n",
    "    with open(file_path) as f:\n",
    "        g = nx.Graph()\n",
    "        for line in f:\n",
    "            if not line[0].isdigit():\n",
    "                continue\n",
    "            node, x, y = line.split()\n",
    "            node = int(node) - 1\n",
    "            x = float(x)\n",
    "            y = float(y)\n",
    "            g.add_node(node, x=x, y=y)\n",
    "        \n",
    "        for u in g.nodes:\n",
    "            for v in range(u + 1, len(g.nodes)):\n",
    "                g.add_edge(u, v,\n",
    "                           distance=euclidean_distance(g.nodes[u]['x'],\n",
    "                                                        g.nodes[u]['y'],\n",
    "                                                        g.nodes[v]['x'],\n",
    "                                                        g.nodes[v]['y']))\n",
    "        return g"
   ]
  },
  {
   "cell_type": "code",
   "execution_count": 4,
   "id": "576049d9",
   "metadata": {},
   "outputs": [
    {
     "data": {
      "text/plain": [
       "406"
      ]
     },
     "execution_count": 4,
     "metadata": {},
     "output_type": "execute_result"
    }
   ],
   "source": [
    "g = read_graph(file_path='wi29.tsp')\n",
    "len(g.edges)"
   ]
  },
  {
   "cell_type": "code",
   "execution_count": 5,
   "id": "b6bd4000",
   "metadata": {},
   "outputs": [],
   "source": [
    "class Indivudal:\n",
    "    def __init__(self, g):\n",
    "        num_of_cities = len(g.nodes)\n",
    "        self.code = np.random.permutation(num_of_cities).tolist()\n",
    "        self.fitness = self.calc_fitness(g)\n",
    "        \n",
    "    def __lt__(self, other):\n",
    "         return self.fitness < other.fitness\n",
    "    \n",
    "    def calc_fitness(self, g):\n",
    "        dis = 0\n",
    "        n = len(self.code)\n",
    "        for i in range(n-1):\n",
    "            dis += g[self.code[i]][self.code[i+1]][\"distance\"]\n",
    "    \n",
    "        dis += g[self.code[-1]][self.code[0]][\"distance\"]\n",
    "        \n",
    "        return dis"
   ]
  },
  {
   "cell_type": "code",
   "execution_count": 6,
   "id": "7b7a5c1c",
   "metadata": {},
   "outputs": [
    {
     "data": {
      "text/plain": [
       "107204.55204817385"
      ]
     },
     "execution_count": 6,
     "metadata": {},
     "output_type": "execute_result"
    }
   ],
   "source": [
    "i = Indivudal(g)\n",
    "i.fitness"
   ]
  },
  {
   "cell_type": "code",
   "execution_count": 7,
   "id": "9f6b64bf",
   "metadata": {},
   "outputs": [],
   "source": [
    "def mutation(individual, mutation_prob):\n",
    "    \n",
    "    do = random.random() <= mutation_prob\n",
    "\n",
    "    if do:\n",
    "        n = len(individual.code)\n",
    "        idx1 = random.randrange(n)\n",
    "        #lista bez idx1\n",
    "        allowed = list(set(range(n)).difference({idx1}))\n",
    "        idx2 = random.choice(allowed)\n",
    "        temp = individual.code[idx1]\n",
    "        individual.code[idx1] = individual.code[idx2]\n",
    "        individual.code[idx2] = temp\n",
    "        "
   ]
  },
  {
   "cell_type": "code",
   "execution_count": 8,
   "id": "d71ccefa",
   "metadata": {},
   "outputs": [],
   "source": [
    "def selection(population, tournament_size,other_parent=None):\n",
    "    allowed = list(set(range(len(population))).difference({other_parent}))\n",
    "    chosen = random.sample(allowed, tournament_size)\n",
    "    max_fitness = float('inf')\n",
    "    winner_idx = None\n",
    "    for idx in chosen:\n",
    "        if max_fitness > population[idx].fitness:\n",
    "            winner_idx = idx\n",
    "            max_fitness = population[idx].fitness\n",
    "    return winner_idx"
   ]
  },
  {
   "cell_type": "code",
   "execution_count": 9,
   "id": "ef2841cc",
   "metadata": {},
   "outputs": [],
   "source": [
    "#ne radi\n",
    "def crossover(parent1, parent2,child1,child2):\n",
    "    #ukrstanje prvog reda\n",
    "    size = len(parent1.code)\n",
    "    start, end = sorted(random.sample(range(size), 2))\n",
    "\n",
    "    child1.code = [-1 for _ in range(size)]\n",
    "    child2.code = [-1 for _ in range(size)]\n",
    "\n",
    "    # Kopiraj segment između start i end iz roditelja\n",
    "    child1.code[start:end] = parent1.code[start:end]\n",
    "    child2.code[start:end] = parent2.code[start:end]\n",
    "\n",
    "    # Indeksi za popunjavanje preostalih vrednosti\n",
    "    idx1 = end % size\n",
    "    idx2 = idx1\n",
    "\n",
    "    # Popuni preostale vrednosti u detetu 1 s vrednostima iz drugog roditelja\n",
    "    while idx1 != start:\n",
    "        if parent2.code[idx2] not in child1.code:\n",
    "            child1.code[idx1] = parent2.code[idx2]\n",
    "            idx1 = (idx1 + 1) % size\n",
    "        idx2 = (idx2 + 1) % size\n",
    "\n",
    "    # Indeksi za popunjavanje preostalih vrednosti u detetu 2\n",
    "    idx1 = end % size\n",
    "    idx2 = idx1\n",
    "\n",
    "    # Popuni preostale vrednosti u detetu 2 s vrednostima iz prvog roditelja\n",
    "    while idx1 != start:\n",
    "        if parent1.code[idx2] not in child2.code:\n",
    "            child2.code[idx1] = parent1.code[idx2]\n",
    "            idx1 = (idx1 + 1) % size\n",
    "        idx2 = (idx2 + 1) % size"
   ]
  },
  {
   "cell_type": "code",
   "execution_count": 10,
   "id": "f6eed4a4",
   "metadata": {},
   "outputs": [],
   "source": [
    "p1 = Indivudal(g)\n",
    "p2 = Indivudal(g)\n",
    "c1 = Indivudal(g)\n",
    "c2 = Indivudal(g)"
   ]
  },
  {
   "cell_type": "code",
   "execution_count": 11,
   "id": "beb4b3b0",
   "metadata": {},
   "outputs": [
    {
     "name": "stdout",
     "output_type": "stream",
     "text": [
      "[18, 14, 20, 3, 17, 22, 23, 16, 4, 5, 24, 19, 7, 25, 2, 9, 15, 0, 27, 8, 12, 26, 1, 28, 11, 10, 13, 6, 21]\n",
      "[18, 19, 15, 8, 9, 12, 20, 26, 14, 22, 3, 6, 1, 13, 25, 11, 27, 28, 7, 21, 4, 5, 16, 24, 0, 17, 2, 10, 23]\n",
      "[18, 20, 14, 22, 3, 21, 4, 5, 16, 24, 17, 19, 7, 25, 2, 9, 15, 0, 27, 8, 12, 26, 1, 28, 11, 10, 13, 6, 23]\n",
      "[14, 20, 3, 22, 23, 19, 9, 15, 8, 12, 26, 6, 1, 13, 25, 11, 27, 28, 7, 21, 4, 5, 16, 24, 0, 17, 2, 10, 18]\n"
     ]
    }
   ],
   "source": [
    "print(p1.code)\n",
    "print(p2.code)\n",
    "\n",
    "crossover(p1,p2,c1,c2)\n",
    "print(c1.code)\n",
    "print(c2.code)"
   ]
  },
  {
   "cell_type": "code",
   "execution_count": 12,
   "id": "d78e8f92",
   "metadata": {},
   "outputs": [],
   "source": [
    "def crossover1(parent1, parent2,child1,child2):\n",
    "    \n",
    "    n = len(parent1.code)\n",
    "    child1_list = []\n",
    "    child2_list = []\n",
    "    \n",
    "    breakpoint = random.randrange(n)\n",
    "    \n",
    "    child1_list.extend(parent1.code[:breakpoint])\n",
    "    child2_list.extend(parent2.code[:breakpoint])\n",
    "    \n",
    "    for i in range(breakpoint,n):\n",
    "        if parent2.code[i] not in child1_list:\n",
    "            child1_list.append(parent2.code[i])\n",
    "        if parent1.code[i] not in child2_list:\n",
    "            child2_list.append(parent1.code[i])\n",
    "        \n",
    "    \n",
    "    for node in parent2.code:\n",
    "        if node not in child1_list:\n",
    "            child1_list.append(node)\n",
    "    for node in parent1.code:\n",
    "        if node not in child2_list:\n",
    "            child2_list.append(node)\n",
    "            \n",
    "    child1.code,child2.code = child1_list,child2_list"
   ]
  },
  {
   "cell_type": "code",
   "execution_count": 13,
   "id": "0ac50752",
   "metadata": {},
   "outputs": [],
   "source": [
    "def simple_ga(g,pop_size, num_iters, tournament_size, mutation_prob, use_elitism, elitism_size,Stop):\n",
    "    if not use_elitism :\n",
    "        elitism_size = 0\n",
    "        if pop_size % 2 == 1:\n",
    "            pop_size += 1\n",
    "    \n",
    "    best_fitnesses = []\n",
    "    if use_elitism and (pop_size - elitism_size) % 2 == 1:\n",
    "        elitism_size += 1\n",
    "    \n",
    "    \n",
    "    population = [Indivudal(g) for _ in range(pop_size)]\n",
    "    best_individual = min(population, key=lambda x: x.fitness)\n",
    "    best_fitnesses.append(best_individual.fitness)\n",
    "    new_population = [Indivudal(g) for _ in range(pop_size)]\n",
    "    \n",
    "    no_difference = 0\n",
    "    for i in range(num_iters):\n",
    "        iter = i\n",
    "        #print(i)\n",
    "        if use_elitism:\n",
    "            population.sort()\n",
    "            \n",
    "            new_population[:elitism_size] = population[:elitism_size]\n",
    "            \n",
    "        for i in range(elitism_size, pop_size, 2):\n",
    "            parent1_idx = selection(population, tournament_size, None)\n",
    "            parent2_idx = selection(population, tournament_size, parent1_idx)\n",
    "            \n",
    "            crossover1(population[parent1_idx],\n",
    "                      population[parent2_idx],\n",
    "                      new_population[i],\n",
    "                      new_population[i+1])\n",
    "            \n",
    "            mutation(new_population[i], mutation_prob)\n",
    "            mutation(new_population[i+1], mutation_prob)\n",
    "            \n",
    "            #print(new_population[i].code)\n",
    "            #print(new_population[i+1].code)\n",
    "            new_population[i].fitness = new_population[i].calc_fitness(g)\n",
    "            new_population[i+1].fitness = new_population[i+1].calc_fitness(g)\n",
    "        \n",
    "        population[:] = new_population[:]\n",
    "        best_individual = min(population, key=lambda x: x.fitness)\n",
    "        best_fitness = best_individual.fitness\n",
    "        best_fitnesses.append(best_fitness)\n",
    "        \n",
    "        if best_fitness == best_fitnesses[iter]:\n",
    "            no_difference += 1\n",
    "        \n",
    "        if no_difference == Stop:\n",
    "            break\n",
    "        #print(best_individual.code)\n",
    "        #print(best_individual.fitness)\n",
    "        #print(1 / best_individual.fitness)\n",
    "        \n",
    "        \n",
    "    \n",
    "    best_individual = min(population, key=lambda x: x.fitness)\n",
    "    print(\"Best individual time:\")\n",
    "    print(best_individual.code)\n",
    "    print(f\"Fitness of best indvidual {best_individual.fitness}\")\n",
    "    print(1 / best_individual.fitness)\n",
    "    \n",
    "    return best_fitnesses"
   ]
  },
  {
   "cell_type": "code",
   "execution_count": 25,
   "id": "104c34cc",
   "metadata": {},
   "outputs": [
    {
     "name": "stdout",
     "output_type": "stream",
     "text": [
      "Best individual time:\n",
      "[17, 10, 9, 5, 1, 0, 4, 12, 25, 27, 28, 18, 14, 11, 7, 3, 2, 6, 8, 13, 15, 23, 26, 24, 19, 16, 20, 22, 21]\n",
      "Fitness of best indvidual 37021.721222139066\n",
      "2.701116984809442e-05\n",
      "Execution time 3.498539924621582s\n"
     ]
    }
   ],
   "source": [
    "start = time.time()\n",
    "best_fitnesses = simple_ga(g,1000,100,5,0.05,True,10,10)\n",
    "end = time.time()\n",
    "print(f\"Execution time {end - start}s\")"
   ]
  },
  {
   "cell_type": "code",
   "execution_count": 26,
   "id": "40016caf",
   "metadata": {},
   "outputs": [
    {
     "data": {
      "text/plain": [
       "[<matplotlib.lines.Line2D at 0x7f7f1ecc2c10>]"
      ]
     },
     "execution_count": 26,
     "metadata": {},
     "output_type": "execute_result"
    },
    {
     "data": {
      "image/png": "[encoded data removed]",
      "text/plain": [
       "<Figure size 432x288 with 1 Axes>"
      ]
     },
     "metadata": {
      "needs_background": "light"
     },
     "output_type": "display_data"
    }
   ],
   "source": [
    "plt.plot([i for i in range(len(best_fitnesses))],best_fitnesses)"
   ]
  },
  {
   "cell_type": "code",
   "execution_count": 27,
   "id": "91602442",
   "metadata": {},
   "outputs": [],
   "source": [
    "def local_search(individual,max_iterations=10):\n",
    "    for _ in range(max_iterations):\n",
    "        old_fitness = individual.fitness\n",
    "        i, j = random.sample(range(len(individual.code)), 2)\n",
    "        individual.code[i], individual.code[j] = individual.code[j], individual.code[i]\n",
    "        new_fitness = individual.fitness\n",
    "        if old_fitness < new_fitness:\n",
    "            individual.code[i], individual.code[j] = individual.code[j], individual.code[i]\n",
    "            \n",
    "    return individual, individual.fitness"
   ]
  },
  {
   "cell_type": "code",
   "execution_count": 28,
   "id": "361427f1",
   "metadata": {},
   "outputs": [],
   "source": [
    "i, ifit = local_search(Indivudal(g),10)"
   ]
  },
  {
   "cell_type": "code",
   "execution_count": 29,
   "id": "217a904b",
   "metadata": {},
   "outputs": [
    {
     "name": "stdout",
     "output_type": "stream",
     "text": [
      "[1, 21, 11, 22, 23, 7, 25, 27, 10, 2, 26, 28, 19, 4, 5, 13, 16, 9, 6, 12, 24, 0, 8, 14, 15, 20, 18, 17, 3]\n",
      "103823.6904079324\n"
     ]
    }
   ],
   "source": [
    "print(i.code)\n",
    "print(ifit)"
   ]
  },
  {
   "cell_type": "code",
   "execution_count": 30,
   "id": "f4ac6548",
   "metadata": {},
   "outputs": [],
   "source": [
    "def GA_with_LS(g,pop_size, num_iters, tournament_size, mutation_prob, use_elitism, elitism_size,Stop,local_size):\n",
    "    if not use_elitism :\n",
    "        elitism_size = 0\n",
    "        if pop_size % 2 == 1:\n",
    "            pop_size += 1\n",
    "    \n",
    "    best_fitnesses = []\n",
    "    if use_elitism and (pop_size - elitism_size) % 2 == 1:\n",
    "        elitism_size += 1\n",
    "    \n",
    "    \n",
    "    population = [Indivudal(g) for _ in range(pop_size)]\n",
    "    best_individual = min(population, key=lambda x: x.fitness)\n",
    "    best_fitnesses.append(best_individual.fitness)\n",
    "    new_population = [Indivudal(g) for _ in range(pop_size)]\n",
    "    \n",
    "    no_difference = 0\n",
    "    for i in range(num_iters):\n",
    "        iter = i\n",
    "        #print(i)\n",
    "        if use_elitism:\n",
    "            population.sort()\n",
    "            \n",
    "            new_population[:elitism_size] = population[:elitism_size]\n",
    "        \n",
    "        for i in range(elitism_size, pop_size, 2):\n",
    "            \n",
    "            for j in range(local_size):\n",
    "                ind = random.randrange(len(population))\n",
    "                local_search(population[j])\n",
    "                \n",
    "            parent1_idx = selection(population, tournament_size, None)\n",
    "            parent2_idx = selection(population, tournament_size, parent1_idx)\n",
    "            \n",
    "            crossover1(population[parent1_idx],\n",
    "                      population[parent2_idx],\n",
    "                      new_population[i],\n",
    "                      new_population[i+1])\n",
    "            \n",
    "            mutation(new_population[i], mutation_prob)\n",
    "            mutation(new_population[i+1], mutation_prob)\n",
    "            \n",
    "            #print(new_population[i].code)\n",
    "            #print(new_population[i+1].code)\n",
    "            new_population[i].fitness = new_population[i].calc_fitness(g)\n",
    "            new_population[i+1].fitness = new_population[i+1].calc_fitness(g)\n",
    "        \n",
    "        population[:] = new_population[:]\n",
    "        best_individual = min(population, key=lambda x: x.fitness)\n",
    "        best_fitness = best_individual.fitness\n",
    "        best_fitnesses.append(best_fitness)\n",
    "        \n",
    "        if best_fitness == best_fitnesses[iter]:\n",
    "            no_difference += 1\n",
    "        \n",
    "        if no_difference == Stop:\n",
    "            break\n",
    "        #print(best_individual.code)\n",
    "        #print(best_individual.fitness)\n",
    "        #print(1 / best_individual.fitness)\n",
    "        \n",
    "        \n",
    "    \n",
    "    best_individual = min(population, key=lambda x: x.fitness)\n",
    "    print(\"Best individual time:\")\n",
    "    print(best_individual.code)\n",
    "    print(f\"Fitness of best indvidual {best_individual.fitness}\")\n",
    "    print(1 / best_individual.fitness)\n",
    "    \n",
    "    return best_fitnesses, best_individual"
   ]
  },
  {
   "cell_type": "code",
   "execution_count": 31,
   "id": "487efebf",
   "metadata": {},
   "outputs": [
    {
     "name": "stdout",
     "output_type": "stream",
     "text": [
      "Best individual time:\n",
      "[13, 23, 12, 1, 18, 7, 10, 24, 14, 22, 15, 6, 16, 20, 9, 5, 25, 11, 17, 26, 19, 27, 8, 2, 3, 21, 4, 28, 0]\n",
      "Fitness of best indvidual 36858.005327239945\n",
      "2.7131148067335836e-05\n",
      "Execution time 13.380713701248169s\n"
     ]
    }
   ],
   "source": [
    "start = time.time()\n",
    "best_fitnesses,_ = GA_with_LS(g,1000,80,5,0.05,True,10,10,10)\n",
    "end = time.time()\n",
    "print(f\"Execution time {end - start}s\")"
   ]
  },
  {
   "cell_type": "code",
   "execution_count": 32,
   "id": "a5bf37ac",
   "metadata": {},
   "outputs": [
    {
     "data": {
      "text/plain": [
       "[<matplotlib.lines.Line2D at 0x7f7f1ec95be0>]"
      ]
     },
     "execution_count": 32,
     "metadata": {},
     "output_type": "execute_result"
    },
    {
     "data": {
      "image/png": "[encoded data removed]",
      "text/plain": [
       "<Figure size 432x288 with 1 Axes>"
      ]
     },
     "metadata": {
      "needs_background": "light"
     },
     "output_type": "display_data"
    }
   ],
   "source": [
    "plt.plot([i for i in range(len(best_fitnesses))],best_fitnesses)"
   ]
  },
  {
   "cell_type": "code",
   "execution_count": 33,
   "id": "b79ebdf6",
   "metadata": {},
   "outputs": [],
   "source": [
    "def GA_with_LS_single(g,pop_size, num_iters, tournament_size, mutation_prob, use_elitism, elitism_size,Stop,local_size,result_queue):\n",
    "    if not use_elitism :\n",
    "        elitism_size = 0\n",
    "        if pop_size % 2 == 1:\n",
    "            pop_size += 1\n",
    "    \n",
    "    best_fitnesses = []\n",
    "    if use_elitism and (pop_size - elitism_size) % 2 == 1:\n",
    "        elitism_size += 1\n",
    "    \n",
    "    \n",
    "    population = [Indivudal(g) for _ in range(pop_size)]\n",
    "    best_individual = min(population, key=lambda x: x.fitness)\n",
    "    best_fitnesses.append(best_individual.fitness)\n",
    "    new_population = [Indivudal(g) for _ in range(pop_size)]\n",
    "    \n",
    "    no_difference = 0\n",
    "    for i in range(num_iters):\n",
    "        iter = i\n",
    "        #print(i)\n",
    "        if use_elitism:\n",
    "            population.sort()\n",
    "            \n",
    "            new_population[:elitism_size] = population[:elitism_size]\n",
    "        \n",
    "        for i in range(elitism_size, pop_size, 2):\n",
    "            \n",
    "            for j in range(local_size):\n",
    "                ind = random.randrange(len(population))\n",
    "                local_search(population[j])\n",
    "                \n",
    "            parent1_idx = selection(population, tournament_size, None)\n",
    "            parent2_idx = selection(population, tournament_size, parent1_idx)\n",
    "            \n",
    "            crossover1(population[parent1_idx],\n",
    "                      population[parent2_idx],\n",
    "                      new_population[i],\n",
    "                      new_population[i+1])\n",
    "            \n",
    "            mutation(new_population[i], mutation_prob)\n",
    "            mutation(new_population[i+1], mutation_prob)\n",
    "            \n",
    "            #print(new_population[i].code)\n",
    "            #print(new_population[i+1].code)\n",
    "            new_population[i].fitness = new_population[i].calc_fitness(g)\n",
    "            new_population[i+1].fitness = new_population[i+1].calc_fitness(g)\n",
    "        \n",
    "        population[:] = new_population[:]\n",
    "        best_individual = min(population, key=lambda x: x.fitness)\n",
    "        best_fitness = best_individual.fitness\n",
    "        best_fitnesses.append(best_fitness)\n",
    "        \n",
    "        if best_fitness == best_fitnesses[iter]:\n",
    "            no_difference += 1\n",
    "        \n",
    "        if no_difference == Stop:\n",
    "            break\n",
    "        #print(best_individual.code)\n",
    "        #print(best_individual.fitness)\n",
    "        #print(1 / best_individual.fitness)\n",
    "        \n",
    "        \n",
    "    \n",
    "    result = best_individual.fitness, best_individual.code\n",
    "    result_queue.put(result)\n"
   ]
  },
  {
   "cell_type": "code",
   "execution_count": 34,
   "id": "5be6bc2c",
   "metadata": {},
   "outputs": [],
   "source": [
    "def parallel_ga_ls(g,pop_size, num_iters, tournament_size, mutation_prob, use_elitism, elitism_size,Stop,local_size,num_processes):\n",
    "    # Create a list of arguments for each process\n",
    "    processes = []\n",
    "    result_queue = multiprocessing.Queue()\n",
    "    for i in range(num_processes):\n",
    "        args = (g,pop_size, num_iters, tournament_size, mutation_prob, use_elitism, elitism_size,Stop,local_size,result_queue)\n",
    "        process = multiprocessing.Process(target=GA_with_LS_single, args=args)\n",
    "        process.start()\n",
    "   \n",
    "        processes.append(process)\n",
    "\n",
    "    # Start and join all processes\n",
    "    #for process in processes:\n",
    "    #    process.start()\n",
    "\n",
    "\n",
    "    for process in processes:\n",
    "        process.join()\n",
    "    results = []\n",
    "    while not result_queue.empty():\n",
    "        result = result_queue.get()\n",
    "        results.append(result)\n",
    "    print(\"\\\\\\\\\")\n",
    "    results.sort()\n",
    "    print(f\"fitnes najbolje {results[0][0]}\")\n",
    "    print(f\"Kod najbolje jedinke {results[0][1]}\")\n",
    "     \n",
    "  \n",
    "    "
   ]
  },
  {
   "cell_type": "code",
   "execution_count": 35,
   "id": "8440835b",
   "metadata": {},
   "outputs": [
    {
     "name": "stdout",
     "output_type": "stream",
     "text": [
      "\\\\\n",
      "fitnes najbolje 31561.052735274312\n",
      "Kod najbolje jedinke [11, 7, 8, 6, 2, 3, 4, 0, 1, 5, 12, 13, 16, 20, 21, 22, 28, 27, 25, 26, 23, 24, 15, 19, 17, 18, 14, 10, 9]\n",
      "Vreme 11.436898946762085s\n"
     ]
    }
   ],
   "source": [
    "if __name__ == \"__main__\":\n",
    "\n",
    "    # ga_ls( graph,\n",
    "    #     num_iters = 20,\n",
    "    #     use_elitism = True,\n",
    "    #     population_size = 1000,\n",
    "    #     elitism_size = 10,\n",
    "    #     mutation_prob = 0.15,\n",
    "    #     tournament_size = 10,\n",
    "    # )\n",
    "    \n",
    "    multiprocessing.freeze_support()  \n",
    "    \n",
    "    start = time.time()\n",
    "\n",
    "    parallel_ga_ls( g,\n",
    "        num_iters = 20,\n",
    "        use_elitism = True,\n",
    "        pop_size = 1000,\n",
    "        elitism_size = 10,\n",
    "        mutation_prob = 0.15,\n",
    "        tournament_size = 10,\n",
    "        Stop = 10,\n",
    "        local_size = 10,\n",
    "        num_processes = 4\n",
    "    )\n",
    "    \n",
    "    end = time.time()\n",
    "    \n",
    "    print(f\"Vreme {end-start}s\")"
   ]
  },
  {
   "cell_type": "code",
   "execution_count": null,
   "id": "f5dc6584",
   "metadata": {},
   "outputs": [],
   "source": []
  },
  {
   "cell_type": "code",
   "execution_count": null,
   "id": "ee70e423",
   "metadata": {},
   "outputs": [],
   "source": []
  },
  {
   "cell_type": "code",
   "execution_count": null,
   "id": "ee8abeb3",
   "metadata": {},
   "outputs": [],
   "source": []
  }
 ],
 "metadata": {
  "kernelspec": {
   "display_name": "Python 3 (ipykernel)",
   "language": "python",
   "name": "python3"
  },
  "language_info": {
   "codemirror_mode": {
    "name": "ipython",
    "version": 3
   },
   "file_extension": ".py",
   "mimetype": "text/x-python",
   "name": "python",
   "nbconvert_exporter": "python",
   "pygments_lexer": "ipython3",
   "version": "3.10.12"
  }
 },
 "nbformat": 4,
 "nbformat_minor": 5
}
