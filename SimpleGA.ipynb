{
 "cells": [
  {
   "cell_type": "code",
   "execution_count": 1,
   "id": "76240247",
   "metadata": {},
   "outputs": [],
   "source": [
    "import networkx as nx\n",
    "import math\n",
    "import numpy as np\n",
    "from matplotlib import pyplot as plt\n",
    "from tqdm import tqdm\n",
    "import random\n",
    "from copy import deepcopy \n",
    "import time\n",
    "\n"
   ]
  },
  {
   "cell_type": "code",
   "execution_count": 2,
   "id": "363518ef",
   "metadata": {},
   "outputs": [],
   "source": [
    "def euclidean_distance(a_x, a_y, b_x, b_y):\n",
    "    return math.sqrt((a_x - b_x)**2 + (a_y - b_y)**2)\n"
   ]
  },
  {
   "cell_type": "code",
   "execution_count": 3,
   "id": "dc9f222d",
   "metadata": {},
   "outputs": [],
   "source": [
    "def read_graph(file_path):\n",
    "    with open(file_path) as f:\n",
    "        g = nx.Graph()\n",
    "        for line in f:\n",
    "            if not line[0].isdigit():\n",
    "                continue\n",
    "            node, x, y = line.split()\n",
    "            node = int(node) - 1\n",
    "            x = float(x)\n",
    "            y = float(y)\n",
    "            g.add_node(node, x=x, y=y)\n",
    "        \n",
    "        for u in g.nodes:\n",
    "            for v in range(u + 1, len(g.nodes)):\n",
    "                g.add_edge(u, v,\n",
    "                           distance=euclidean_distance(g.nodes[u]['x'],\n",
    "                                                        g.nodes[u]['y'],\n",
    "                                                        g.nodes[v]['x'],\n",
    "                                                        g.nodes[v]['y']))\n",
    "        return g"
   ]
  },
  {
   "cell_type": "code",
   "execution_count": 4,
   "id": "576049d9",
   "metadata": {},
   "outputs": [
    {
     "data": {
      "text/plain": [
       "406"
      ]
     },
     "execution_count": 4,
     "metadata": {},
     "output_type": "execute_result"
    }
   ],
   "source": [
    "g = read_graph(file_path='wi29.tsp')\n",
    "len(g.edges)"
   ]
  },
  {
   "cell_type": "code",
   "execution_count": 5,
   "id": "b6bd4000",
   "metadata": {},
   "outputs": [],
   "source": [
    "class Indivudal:\n",
    "    def __init__(self, g):\n",
    "        num_of_cities = len(g.nodes)\n",
    "        self.code = np.random.permutation(num_of_cities).tolist()\n",
    "        self.fitness = self.calc_fitness(g)\n",
    "        \n",
    "    def __lt__(self, other):\n",
    "         return self.fitness < other.fitness\n",
    "    \n",
    "    def calc_fitness(self, g):\n",
    "        dis = 0\n",
    "        n = len(self.code)\n",
    "        for i in range(n-1):\n",
    "            dis += g[self.code[i]][self.code[i+1]][\"distance\"]\n",
    "    \n",
    "        dis += g[self.code[-1]][self.code[0]][\"distance\"]\n",
    "        \n",
    "        return dis"
   ]
  },
  {
   "cell_type": "code",
   "execution_count": 6,
   "id": "7b7a5c1c",
   "metadata": {},
   "outputs": [
    {
     "data": {
      "text/plain": [
       "110989.95499436805"
      ]
     },
     "execution_count": 6,
     "metadata": {},
     "output_type": "execute_result"
    }
   ],
   "source": [
    "i = Indivudal(g)\n",
    "i.fitness"
   ]
  },
  {
   "cell_type": "code",
   "execution_count": 7,
   "id": "9f6b64bf",
   "metadata": {},
   "outputs": [],
   "source": [
    "def mutation(individual, mutation_prob):\n",
    "    \n",
    "    do = random.random() <= mutation_prob\n",
    "\n",
    "    if do:\n",
    "        n = len(individual.code)\n",
    "        idx1 = random.randrange(n)\n",
    "        #lista bez idx1\n",
    "        allowed = list(set(range(n)).difference({idx1}))\n",
    "        idx2 = random.choice(allowed)\n",
    "        temp = individual.code[idx1]\n",
    "        individual.code[idx1] = individual.code[idx2]\n",
    "        individual.code[idx2] = temp\n",
    "        "
   ]
  },
  {
   "cell_type": "code",
   "execution_count": 8,
   "id": "d71ccefa",
   "metadata": {},
   "outputs": [],
   "source": [
    "def selection(population, tournament_size,other_parent=None):\n",
    "    allowed = list(set(range(len(population))).difference({other_parent}))\n",
    "    chosen = random.sample(allowed, tournament_size)\n",
    "    max_fitness = float('inf')\n",
    "    winner_idx = None\n",
    "    for idx in chosen:\n",
    "        if max_fitness > population[idx].fitness:\n",
    "            winner_idx = idx\n",
    "            max_fitness = population[idx].fitness\n",
    "    return winner_idx"
   ]
  },
  {
   "cell_type": "code",
   "execution_count": 9,
   "id": "ef2841cc",
   "metadata": {},
   "outputs": [],
   "source": [
    "def crossover(parent1, parent2,child1,child2):\n",
    "    #ukrstanje prvog reda\n",
    "    size = len(parent1.code)\n",
    "    start, end = sorted(random.sample(range(size), 2))\n",
    "\n",
    "    child1.code = [-1 for _ in range(size)]\n",
    "    child2.code = [-1 for _ in range(size)]\n",
    "\n",
    "    # Kopiraj segment između start i end iz roditelja\n",
    "    child1.code[start:end] = parent1.code[start:end]\n",
    "    child2.code[start:end] = parent2.code[start:end]\n",
    "\n",
    "    # Indeksi za popunjavanje preostalih vrednosti\n",
    "    idx1 = end % size\n",
    "    idx2 = idx1\n",
    "\n",
    "    # Popuni preostale vrednosti u detetu 1 s vrednostima iz drugog roditelja\n",
    "    while idx1 != start:\n",
    "        if parent2.code[idx2] not in child1.code:\n",
    "            child1.code[idx1] = parent2.code[idx2]\n",
    "            idx1 = (idx1 + 1) % size\n",
    "        idx2 = (idx2 + 1) % size\n",
    "\n",
    "    # Indeksi za popunjavanje preostalih vrednosti u detetu 2\n",
    "    idx1 = end % size\n",
    "    idx2 = idx1\n",
    "\n",
    "    # Popuni preostale vrednosti u detetu 2 s vrednostima iz prvog roditelja\n",
    "    while idx1 != start:\n",
    "        if parent1.code[idx2] not in child2.code:\n",
    "            child2.code[idx1] = parent1.code[idx2]\n",
    "            idx1 = (idx1 + 1) % size\n",
    "        idx2 = (idx2 + 1) % size"
   ]
  },
  {
   "cell_type": "code",
   "execution_count": 10,
   "id": "f6eed4a4",
   "metadata": {},
   "outputs": [],
   "source": [
    "p1 = Indivudal(g)\n",
    "p2 = Indivudal(g)\n",
    "c1 = Indivudal(g)\n",
    "c2 = Indivudal(g)"
   ]
  },
  {
   "cell_type": "code",
   "execution_count": 11,
   "id": "beb4b3b0",
   "metadata": {},
   "outputs": [
    {
     "name": "stdout",
     "output_type": "stream",
     "text": [
      "[13, 15, 23, 25, 11, 5, 18, 4, 19, 10, 20, 14, 12, 3, 16, 2, 1, 22, 0, 26, 17, 8, 24, 21, 7, 27, 9, 28, 6]\n",
      "[15, 14, 4, 2, 24, 6, 10, 8, 9, 1, 26, 28, 25, 17, 11, 0, 21, 18, 13, 23, 19, 16, 7, 12, 20, 5, 27, 22, 3]\n",
      "[6, 10, 9, 28, 25, 11, 18, 13, 23, 19, 20, 14, 12, 3, 16, 2, 1, 22, 0, 26, 17, 8, 24, 21, 7, 5, 27, 15, 4]\n",
      "[5, 4, 10, 14, 3, 2, 1, 22, 26, 8, 24, 28, 25, 17, 11, 0, 21, 18, 13, 23, 19, 16, 7, 12, 20, 27, 9, 6, 15]\n"
     ]
    }
   ],
   "source": [
    "print(p1.code)\n",
    "print(p2.code)\n",
    "\n",
    "crossover(p1,p2,c1,c2)\n",
    "print(c1.code)\n",
    "print(c2.code)"
   ]
  },
  {
   "cell_type": "code",
   "execution_count": 12,
   "id": "d78e8f92",
   "metadata": {},
   "outputs": [],
   "source": [
    "def crossover1(parent1, parent2,child1,child2):\n",
    "    \n",
    "    n = len(parent1.code)\n",
    "    child1_list = []\n",
    "    child2_list = []\n",
    "    \n",
    "    breakpoint = random.randrange(n)\n",
    "    \n",
    "    child1_list.extend(parent1.code[:breakpoint])\n",
    "    child2_list.extend(parent2.code[:breakpoint])\n",
    "    \n",
    "    for i in range(breakpoint,n):\n",
    "        if parent2.code[i] not in child1_list:\n",
    "            child1_list.append(parent2.code[i])\n",
    "        if parent1.code[i] not in child2_list:\n",
    "            child2_list.append(parent1.code[i])\n",
    "        \n",
    "    \n",
    "    for node in parent2.code:\n",
    "        if node not in child1_list:\n",
    "            child1_list.append(node)\n",
    "    for node in parent1.code:\n",
    "        if node not in child2_list:\n",
    "            child2_list.append(node)\n",
    "            \n",
    "    child1.code,child2.code = child1_list,child2_list"
   ]
  },
  {
   "cell_type": "code",
   "execution_count": 24,
   "id": "0ac50752",
   "metadata": {},
   "outputs": [],
   "source": [
    "def simple_ga(g,pop_size, num_iters, tournament_size, mutation_prob, use_elitism, elitism_size,Stop):\n",
    "    if not use_elitism :\n",
    "        elitism_size = 0\n",
    "        if pop_size % 2 == 1:\n",
    "            pop_size += 1\n",
    "    \n",
    "    best_fitnesses = []\n",
    "    if use_elitism and (pop_size - elitism_size) % 2 == 1:\n",
    "        elitism_size += 1\n",
    "    \n",
    "    \n",
    "    population = [Indivudal(g) for _ in range(pop_size)]\n",
    "    best_individual = min(population, key=lambda x: x.fitness)\n",
    "    best_fitnesses.append(best_individual.fitness)\n",
    "    new_population = [Indivudal(g) for _ in range(pop_size)]\n",
    "    \n",
    "    no_difference = 0\n",
    "    for i in range(num_iters):\n",
    "        iter = i\n",
    "        #print(i)\n",
    "        if use_elitism:\n",
    "            population.sort()\n",
    "            \n",
    "            new_population[:elitism_size] = population[:elitism_size]\n",
    "            \n",
    "        for i in range(elitism_size, pop_size, 2):\n",
    "            parent1_idx = selection(population, tournament_size, None)\n",
    "            parent2_idx = selection(population, tournament_size, parent1_idx)\n",
    "            \n",
    "            crossover1(population[parent1_idx],\n",
    "                      population[parent2_idx],\n",
    "                      new_population[i],\n",
    "                      new_population[i+1])\n",
    "            \n",
    "            mutation(new_population[i], mutation_prob)\n",
    "            mutation(new_population[i+1], mutation_prob)\n",
    "            \n",
    "            #print(new_population[i].code)\n",
    "            #print(new_population[i+1].code)\n",
    "            new_population[i].fitness = new_population[i].calc_fitness(g)\n",
    "            new_population[i+1].fitness = new_population[i+1].calc_fitness(g)\n",
    "        \n",
    "        population[:] = new_population[:]\n",
    "        best_individual = min(population, key=lambda x: x.fitness)\n",
    "        best_fitness = best_individual.fitness\n",
    "        best_fitnesses.append(best_fitness)\n",
    "        \n",
    "        if best_fitness == best_fitnesses[iter]:\n",
    "            no_difference += 1\n",
    "        \n",
    "        if no_difference == Stop:\n",
    "            break\n",
    "        #print(best_individual.code)\n",
    "        #print(best_individual.fitness)\n",
    "        #print(1 / best_individual.fitness)\n",
    "        \n",
    "        \n",
    "    \n",
    "    best_individual = min(population, key=lambda x: x.fitness)\n",
    "    print(\"Best individual time:\")\n",
    "    print(best_individual.code)\n",
    "    print(f\"Fitness of best indvidual {best_individual.fitness}\")\n",
    "    print(1 / best_individual.fitness)\n",
    "    \n",
    "    return best_fitnesses"
   ]
  },
  {
   "cell_type": "code",
   "execution_count": 27,
   "id": "104c34cc",
   "metadata": {},
   "outputs": [
    {
     "name": "stdout",
     "output_type": "stream",
     "text": [
      "Best individual time:\n",
      "[28, 20, 22, 21, 17, 11, 10, 9, 4, 3, 6, 2, 1, 0, 5, 7, 8, 12, 13, 16, 14, 18, 25, 24, 26, 23, 15, 19, 27]\n",
      "Fitness of best indvidual 34889.28161031476\n",
      "2.8662097751658985e-05\n",
      "Execution time 2.5677802562713623s\n"
     ]
    }
   ],
   "source": [
    "start = time.time()\n",
    "best_fitnesses = simple_ga(g,1000,80,5,0.05,True,10,10)\n",
    "end = time.time()\n",
    "print(f\"Execution time {end - start}s\")"
   ]
  },
  {
   "cell_type": "code",
   "execution_count": 28,
   "id": "40016caf",
   "metadata": {},
   "outputs": [
    {
     "data": {
      "text/plain": [
       "[<matplotlib.lines.Line2D at 0x7f27d8568790>]"
      ]
     },
     "execution_count": 28,
     "metadata": {},
     "output_type": "execute_result"
    },
    {
     "data": {
      "image/png": "[encoded data removed]",
      "text/plain": [
       "<Figure size 432x288 with 1 Axes>"
      ]
     },
     "metadata": {
      "needs_background": "light"
     },
     "output_type": "display_data"
    }
   ],
   "source": [
    "plt.plot([i for i in range(len(best_fitnesses))],best_fitnesses)"
   ]
  },
  {
   "cell_type": "code",
   "execution_count": null,
   "id": "91602442",
   "metadata": {},
   "outputs": [],
   "source": []
  },
  {
   "cell_type": "code",
   "execution_count": null,
   "id": "361427f1",
   "metadata": {},
   "outputs": [],
   "source": []
  }
 ],
 "metadata": {
  "kernelspec": {
   "display_name": "Python 3 (ipykernel)",
   "language": "python",
   "name": "python3"
  },
  "language_info": {
   "codemirror_mode": {
    "name": "ipython",
    "version": 3
   },
   "file_extension": ".py",
   "mimetype": "text/x-python",
   "name": "python",
   "nbconvert_exporter": "python",
   "pygments_lexer": "ipython3",
   "version": "3.8.10"
  }
 },
 "nbformat": 4,
 "nbformat_minor": 5
}
